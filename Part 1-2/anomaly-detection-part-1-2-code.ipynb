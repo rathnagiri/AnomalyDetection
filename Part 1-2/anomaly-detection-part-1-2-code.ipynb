{
 "cells": [
  {
   "cell_type": "code",
   "execution_count": 2,
   "id": "d0735a89",
   "metadata": {},
   "outputs": [],
   "source": [
    "#######################################################\n",
    "#######################################################\n",
    "############    COPYRIGHT - DATA SOCIETY   ############\n",
    "#######################################################\n",
    "#######################################################\n",
    "\n",
    "## ANOMALY DETECTION PART 1 ##\n",
    "\n",
    "## NOTE: To run individual pieces of code, select the line of code and\n",
    "##       press ctrl + enter for PCs or command + enter for Macs\n",
    "\n",
    "\n"
   ]
  },
  {
   "cell_type": "code",
   "execution_count": 3,
   "id": "22d83bde",
   "metadata": {},
   "outputs": [
    {
     "name": "stdout",
     "output_type": "stream",
     "text": [
      "Collecting imblearn\n",
      "  Downloading imblearn-0.0-py2.py3-none-any.whl.metadata (355 bytes)\n",
      "Collecting imbalanced-learn (from imblearn)\n",
      "  Downloading imbalanced_learn-0.12.2-py3-none-any.whl.metadata (8.2 kB)\n",
      "Requirement already satisfied: numpy>=1.17.3 in /home/codespace/.local/lib/python3.10/site-packages (from imbalanced-learn->imblearn) (1.26.4)\n",
      "Requirement already satisfied: scipy>=1.5.0 in /home/codespace/.local/lib/python3.10/site-packages (from imbalanced-learn->imblearn) (1.13.0)\n",
      "Requirement already satisfied: scikit-learn>=1.0.2 in /home/codespace/.local/lib/python3.10/site-packages (from imbalanced-learn->imblearn) (1.4.1.post1)\n",
      "Requirement already satisfied: joblib>=1.1.1 in /home/codespace/.local/lib/python3.10/site-packages (from imbalanced-learn->imblearn) (1.3.2)\n",
      "Requirement already satisfied: threadpoolctl>=2.0.0 in /home/codespace/.local/lib/python3.10/site-packages (from imbalanced-learn->imblearn) (3.4.0)\n",
      "Downloading imblearn-0.0-py2.py3-none-any.whl (1.9 kB)\n",
      "Downloading imbalanced_learn-0.12.2-py3-none-any.whl (257 kB)\n",
      "\u001b[2K   \u001b[90m━━━━━━━━━━━━━━━━━━━━━━━━━━━━━━━━━━━━━━━━\u001b[0m \u001b[32m258.0/258.0 kB\u001b[0m \u001b[31m5.3 MB/s\u001b[0m eta \u001b[36m0:00:00\u001b[0m:00:01\u001b[0m\n",
      "\u001b[?25hInstalling collected packages: imbalanced-learn, imblearn\n",
      "Successfully installed imbalanced-learn-0.12.2 imblearn-0.0\n",
      "Note: you may need to restart the kernel to use updated packages.\n"
     ]
    }
   ],
   "source": [
    "# %pip install imblearn"
   ]
  },
  {
   "cell_type": "code",
   "execution_count": 1,
   "id": "3921a65a",
   "metadata": {},
   "outputs": [],
   "source": [
    "#=================================================-\n",
    "#### Slide 27: Loading packages  ####\n",
    "\n",
    "import os\n",
    "from pathlib import Path\n",
    "import pandas as pd\n",
    "import numpy as np\n",
    "import matplotlib.pyplot as plt\n",
    "import pickle\n",
    "\n",
    "from sklearn import metrics\n",
    "from sklearn.model_selection import train_test_split\n",
    "from sklearn.metrics import confusion_matrix, roc_auc_score\n",
    "from imblearn.over_sampling import SMOTE\n",
    "\n",
    "from sklearn.preprocessing import StandardScaler\n",
    "from sklearn.neighbors import NearestNeighbors\n",
    "from sklearn.cluster import DBSCAN\n",
    "from sklearn.tree import DecisionTreeClassifier\n",
    "\n",
    "\n"
   ]
  },
  {
   "cell_type": "code",
   "execution_count": 2,
   "id": "08139ea6",
   "metadata": {},
   "outputs": [
    {
     "name": "stdout",
     "output_type": "stream",
     "text": [
      "/workspaces\n",
      "/workspaces/data\n"
     ]
    }
   ],
   "source": [
    "#=================================================-\n",
    "#### Slide 28: Directory settings  ####\n",
    "\n",
    "# Set 'main_dir' to location of the project folder\n",
    "# from pathlib import Path \n",
    "# home_dir = Path(\".\").resolve()\n",
    "# main_dir = home_dir.parent.parent\n",
    "# print(main_dir)\n",
    "# data_dir = str(main_dir) + \"/data\"\n",
    "# print(data_dir)\n",
    "\n",
    "\n"
   ]
  },
  {
   "cell_type": "code",
   "execution_count": 10,
   "id": "4e4a6d24",
   "metadata": {},
   "outputs": [
    {
     "data": {
      "text/html": [
       "<div>\n",
       "<style scoped>\n",
       "    .dataframe tbody tr th:only-of-type {\n",
       "        vertical-align: middle;\n",
       "    }\n",
       "\n",
       "    .dataframe tbody tr th {\n",
       "        vertical-align: top;\n",
       "    }\n",
       "\n",
       "    .dataframe thead th {\n",
       "        text-align: right;\n",
       "    }\n",
       "</style>\n",
       "<table border=\"1\" class=\"dataframe\">\n",
       "  <thead>\n",
       "    <tr style=\"text-align: right;\">\n",
       "      <th></th>\n",
       "      <th>step</th>\n",
       "      <th>type</th>\n",
       "      <th>amount</th>\n",
       "      <th>nameOrig</th>\n",
       "      <th>oldbalanceOrg</th>\n",
       "      <th>newbalanceOrig</th>\n",
       "      <th>nameDest</th>\n",
       "      <th>oldbalanceDest</th>\n",
       "      <th>newbalanceDest</th>\n",
       "      <th>isFraud</th>\n",
       "      <th>isFlaggedFraud</th>\n",
       "    </tr>\n",
       "  </thead>\n",
       "  <tbody>\n",
       "    <tr>\n",
       "      <th>0</th>\n",
       "      <td>308</td>\n",
       "      <td>CASH_OUT</td>\n",
       "      <td>94270.99</td>\n",
       "      <td>C473084216</td>\n",
       "      <td>0.0</td>\n",
       "      <td>0.0</td>\n",
       "      <td>C1130422007</td>\n",
       "      <td>392411.08</td>\n",
       "      <td>486682.07</td>\n",
       "      <td>0</td>\n",
       "      <td>0</td>\n",
       "    </tr>\n",
       "    <tr>\n",
       "      <th>1</th>\n",
       "      <td>215</td>\n",
       "      <td>TRANSFER</td>\n",
       "      <td>1068883.00</td>\n",
       "      <td>C116497934</td>\n",
       "      <td>227.3</td>\n",
       "      <td>0.0</td>\n",
       "      <td>C321541184</td>\n",
       "      <td>4096905.34</td>\n",
       "      <td>5165788.35</td>\n",
       "      <td>0</td>\n",
       "      <td>0</td>\n",
       "    </tr>\n",
       "    <tr>\n",
       "      <th>2</th>\n",
       "      <td>326</td>\n",
       "      <td>TRANSFER</td>\n",
       "      <td>2485281.21</td>\n",
       "      <td>C2089305953</td>\n",
       "      <td>54940.0</td>\n",
       "      <td>0.0</td>\n",
       "      <td>C1473680645</td>\n",
       "      <td>177829.59</td>\n",
       "      <td>2663110.80</td>\n",
       "      <td>0</td>\n",
       "      <td>0</td>\n",
       "    </tr>\n",
       "    <tr>\n",
       "      <th>3</th>\n",
       "      <td>371</td>\n",
       "      <td>PAYMENT</td>\n",
       "      <td>2243.36</td>\n",
       "      <td>C1200351076</td>\n",
       "      <td>0.0</td>\n",
       "      <td>0.0</td>\n",
       "      <td>M1583169191</td>\n",
       "      <td>0.00</td>\n",
       "      <td>0.00</td>\n",
       "      <td>0</td>\n",
       "      <td>0</td>\n",
       "    </tr>\n",
       "    <tr>\n",
       "      <th>4</th>\n",
       "      <td>283</td>\n",
       "      <td>PAYMENT</td>\n",
       "      <td>5845.82</td>\n",
       "      <td>C1501258365</td>\n",
       "      <td>0.0</td>\n",
       "      <td>0.0</td>\n",
       "      <td>M1431167213</td>\n",
       "      <td>0.00</td>\n",
       "      <td>0.00</td>\n",
       "      <td>0</td>\n",
       "      <td>0</td>\n",
       "    </tr>\n",
       "  </tbody>\n",
       "</table>\n",
       "</div>"
      ],
      "text/plain": [
       "   step      type      amount     nameOrig  oldbalanceOrg  newbalanceOrig  \\\n",
       "0   308  CASH_OUT    94270.99   C473084216            0.0             0.0   \n",
       "1   215  TRANSFER  1068883.00   C116497934          227.3             0.0   \n",
       "2   326  TRANSFER  2485281.21  C2089305953        54940.0             0.0   \n",
       "3   371   PAYMENT     2243.36  C1200351076            0.0             0.0   \n",
       "4   283   PAYMENT     5845.82  C1501258365            0.0             0.0   \n",
       "\n",
       "      nameDest  oldbalanceDest  newbalanceDest  isFraud  isFlaggedFraud  \n",
       "0  C1130422007       392411.08       486682.07        0               0  \n",
       "1   C321541184      4096905.34      5165788.35        0               0  \n",
       "2  C1473680645       177829.59      2663110.80        0               0  \n",
       "3  M1583169191            0.00            0.00        0               0  \n",
       "4  M1431167213            0.00            0.00        0               0  "
      ]
     },
     "execution_count": 10,
     "metadata": {},
     "output_type": "execute_result"
    }
   ],
   "source": [
    "#=================================================-\n",
    "#### Slide 29: Load the dataset  ####\n",
    "#paysim = pd.read_csv(str(data_dir)+\"/paysim_transactions.csv\")\n",
    "paysim = pd.read_csv(\"/workspaces/AnomalyDetection/Anomaly+Detection+data/data/paysim_transactions.csv\")\n",
    "paysim.head()\n",
    "\n",
    "\n",
    "\n"
   ]
  },
  {
   "cell_type": "code",
   "execution_count": 9,
   "id": "a023b80c",
   "metadata": {},
   "outputs": [
    {
     "name": "stdout",
     "output_type": "stream",
     "text": [
      "<class 'pandas.core.frame.DataFrame'>\n",
      "RangeIndex: 20220 entries, 0 to 20219\n",
      "Data columns (total 11 columns):\n",
      " #   Column          Non-Null Count  Dtype  \n",
      "---  ------          --------------  -----  \n",
      " 0   step            20220 non-null  int64  \n",
      " 1   type            20220 non-null  object \n",
      " 2   amount          20220 non-null  float64\n",
      " 3   nameOrig        20220 non-null  object \n",
      " 4   oldbalanceOrg   20220 non-null  float64\n",
      " 5   newbalanceOrig  20220 non-null  float64\n",
      " 6   nameDest        20220 non-null  object \n",
      " 7   oldbalanceDest  20220 non-null  float64\n",
      " 8   newbalanceDest  20220 non-null  float64\n",
      " 9   isFraud         20220 non-null  int64  \n",
      " 10  isFlaggedFraud  20220 non-null  int64  \n",
      "dtypes: float64(5), int64(3), object(3)\n",
      "memory usage: 1.7+ MB\n"
     ]
    }
   ],
   "source": [
    "paysim.info()"
   ]
  },
  {
   "cell_type": "code",
   "execution_count": 11,
   "id": "c694c3a3",
   "metadata": {},
   "outputs": [
    {
     "data": {
      "text/plain": [
       "PosixPath('/workspaces/AnomalyDetection/Part 1-2')"
      ]
     },
     "execution_count": 11,
     "metadata": {},
     "output_type": "execute_result"
    }
   ],
   "source": [
    "Path.cwd()"
   ]
  },
  {
   "cell_type": "code",
   "execution_count": 12,
   "id": "dca73fa5",
   "metadata": {},
   "outputs": [
    {
     "data": {
      "text/plain": [
       "Index(['step', 'type', 'amount', 'nameOrig', 'oldbalanceOrg', 'newbalanceOrig',\n",
       "       'nameDest', 'oldbalanceDest', 'newbalanceDest', 'isFraud',\n",
       "       'isFlaggedFraud'],\n",
       "      dtype='object')"
      ]
     },
     "execution_count": 12,
     "metadata": {},
     "output_type": "execute_result"
    }
   ],
   "source": [
    "#=================================================-\n",
    "#### Slide 30: Understand the dataset  ####\n",
    "\n",
    "paysim.columns\n",
    "\n",
    "\n"
   ]
  },
  {
   "cell_type": "code",
   "execution_count": null,
   "id": "e5ac758b",
   "metadata": {},
   "outputs": [],
   "source": []
  },
  {
   "cell_type": "code",
   "execution_count": 16,
   "id": "f1ab4dc6",
   "metadata": {},
   "outputs": [
    {
     "name": "stdout",
     "output_type": "stream",
     "text": [
      "isFraud\n",
      "0    0.98912\n",
      "1    0.01088\n",
      "Name: count, dtype: float64\n"
     ]
    },
    {
     "data": {
      "text/plain": [
       "<Axes: ylabel='isFraud'>"
      ]
     },
     "execution_count": 16,
     "metadata": {},
     "output_type": "execute_result"
    },
    {
     "data": {
      "image/png": "[encoded data removed]",
      "text/plain": [
       "<Figure size 640x480 with 1 Axes>"
      ]
     },
     "metadata": {},
     "output_type": "display_data"
    }
   ],
   "source": [
    "#=================================================-\n",
    "#### Slide 31: Target of the dataset  ####\n",
    "\n",
    "paysim['isFraud'].value_counts(normalize=True)*100\n",
    "\n",
    "print(paysim['isFraud'].value_counts() / len(paysim))\n",
    "paysim['isFraud'].value_counts().plot(kind = 'barh')\n",
    "\n",
    "\n"
   ]
  },
  {
   "cell_type": "code",
   "execution_count": 20,
   "id": "9dd2fb1c",
   "metadata": {},
   "outputs": [
    {
     "data": {
      "text/plain": [
       "step              0\n",
       "type              0\n",
       "amount            0\n",
       "nameOrig          0\n",
       "oldbalanceOrg     0\n",
       "newbalanceOrig    0\n",
       "nameDest          0\n",
       "oldbalanceDest    0\n",
       "newbalanceDest    0\n",
       "isFraud           0\n",
       "isFlaggedFraud    0\n",
       "dtype: int64"
      ]
     },
     "execution_count": 20,
     "metadata": {},
     "output_type": "execute_result"
    }
   ],
   "source": [
    "#=================================================-\n",
    "#### Slide 32: EDA of the dataset  ####\n",
    "\n",
    "paysim.isnull().sum()\n",
    "\n",
    "\n",
    "\n"
   ]
  },
  {
   "cell_type": "code",
   "execution_count": 19,
   "id": "19d90d5a",
   "metadata": {},
   "outputs": [
    {
     "data": {
      "text/plain": [
       "<Axes: ylabel='type'>"
      ]
     },
     "execution_count": 19,
     "metadata": {},
     "output_type": "execute_result"
    },
    {
     "data": {
      "image/png": "[encoded data removed]",
      "text/plain": [
       "<Figure size 640x480 with 1 Axes>"
      ]
     },
     "metadata": {},
     "output_type": "display_data"
    }
   ],
   "source": [
    "paysim['type'].value_counts().plot(kind = 'barh')"
   ]
  },
  {
   "cell_type": "code",
   "execution_count": 21,
   "id": "5ceb6592",
   "metadata": {},
   "outputs": [
    {
     "name": "stdout",
     "output_type": "stream",
     "text": [
      "       amount  oldbalanceOrg  newbalanceOrig  oldbalanceDest  newbalanceDest\n",
      "0    94270.99            0.0             0.0       392411.08       486682.07\n",
      "1  1068883.00          227.3             0.0      4096905.34      5165788.35\n",
      "2  2485281.21        54940.0             0.0       177829.59      2663110.80\n",
      "3     2243.36            0.0             0.0            0.00            0.00\n",
      "4     5845.82            0.0             0.0            0.00            0.00\n"
     ]
    }
   ],
   "source": [
    "#=================================================-\n",
    "#### Slide 34: Subset the data  ####\n",
    "\n",
    "# Subset variables from fraud dataset\n",
    "paysim_dbscan = paysim.drop(['step', 'type','nameOrig', 'nameDest', 'isFlaggedFraud','isFraud'], axis = 1)\n",
    "print(paysim_dbscan.head())\n",
    "\n",
    "\n"
   ]
  },
  {
   "cell_type": "code",
   "execution_count": 22,
   "id": "432deddc",
   "metadata": {},
   "outputs": [
    {
     "name": "stdout",
     "output_type": "stream",
     "text": [
      "amount            0\n",
      "oldbalanceOrg     0\n",
      "newbalanceOrig    0\n",
      "oldbalanceDest    0\n",
      "newbalanceDest    0\n",
      "dtype: int64\n"
     ]
    }
   ],
   "source": [
    "#=================================================-\n",
    "#### Slide 35: Data cleaning: NAs  ####\n",
    "\n",
    "print(paysim_dbscan.isnull().sum())\n",
    "\n",
    "\n"
   ]
  },
  {
   "cell_type": "code",
   "execution_count": 23,
   "id": "7232e4f4",
   "metadata": {},
   "outputs": [
    {
     "name": "stdout",
     "output_type": "stream",
     "text": [
      "\u001b[0;31mInit signature:\u001b[0m \u001b[0mStandardScaler\u001b[0m\u001b[0;34m(\u001b[0m\u001b[0;34m*\u001b[0m\u001b[0;34m,\u001b[0m \u001b[0mcopy\u001b[0m\u001b[0;34m=\u001b[0m\u001b[0;32mTrue\u001b[0m\u001b[0;34m,\u001b[0m \u001b[0mwith_mean\u001b[0m\u001b[0;34m=\u001b[0m\u001b[0;32mTrue\u001b[0m\u001b[0;34m,\u001b[0m \u001b[0mwith_std\u001b[0m\u001b[0;34m=\u001b[0m\u001b[0;32mTrue\u001b[0m\u001b[0;34m)\u001b[0m\u001b[0;34m\u001b[0m\u001b[0;34m\u001b[0m\u001b[0m\n",
      "\u001b[0;31mDocstring:\u001b[0m     \n",
      "Standardize features by removing the mean and scaling to unit variance.\n",
      "\n",
      "The standard score of a sample `x` is calculated as:\n",
      "\n",
      "    z = (x - u) / s\n",
      "\n",
      "where `u` is the mean of the training samples or zero if `with_mean=False`,\n",
      "and `s` is the standard deviation of the training samples or one if\n",
      "`with_std=False`.\n",
      "\n",
      "Centering and scaling happen independently on each feature by computing\n",
      "the relevant statistics on the samples in the training set. Mean and\n",
      "standard deviation are then stored to be used on later data using\n",
      ":meth:`transform`.\n",
      "\n",
      "Standardization of a dataset is a common requirement for many\n",
      "machine learning estimators: they might behave badly if the\n",
      "individual features do not more or less look like standard normally\n",
      "distributed data (e.g. Gaussian with 0 mean and unit variance).\n",
      "\n",
      "For instance many elements used in the objective function of\n",
      "a learning algorithm (such as the RBF kernel of Support Vector\n",
      "Machines or the L1 and L2 regularizers of linear models) assume that\n",
      "all features are centered around 0 and have variance in the same\n",
      "order. If a feature has a variance that is orders of magnitude larger\n",
      "than others, it might dominate the objective function and make the\n",
      "estimator unable to learn from other features correctly as expected.\n",
      "\n",
      "`StandardScaler` is sensitive to outliers, and the features may scale\n",
      "differently from each other in the presence of outliers. For an example\n",
      "visualization, refer to :ref:`Compare StandardScaler with other scalers\n",
      "<plot_all_scaling_standard_scaler_section>`.\n",
      "\n",
      "This scaler can also be applied to sparse CSR or CSC matrices by passing\n",
      "`with_mean=False` to avoid breaking the sparsity structure of the data.\n",
      "\n",
      "Read more in the :ref:`User Guide <preprocessing_scaler>`.\n",
      "\n",
      "Parameters\n",
      "----------\n",
      "copy : bool, default=True\n",
      "    If False, try to avoid a copy and do inplace scaling instead.\n",
      "    This is not guaranteed to always work inplace; e.g. if the data is\n",
      "    not a NumPy array or scipy.sparse CSR matrix, a copy may still be\n",
      "    returned.\n",
      "\n",
      "with_mean : bool, default=True\n",
      "    If True, center the data before scaling.\n",
      "    This does not work (and will raise an exception) when attempted on\n",
      "    sparse matrices, because centering them entails building a dense\n",
      "    matrix which in common use cases is likely to be too large to fit in\n",
      "    memory.\n",
      "\n",
      "with_std : bool, default=True\n",
      "    If True, scale the data to unit variance (or equivalently,\n",
      "    unit standard deviation).\n",
      "\n",
      "Attributes\n",
      "----------\n",
      "scale_ : ndarray of shape (n_features,) or None\n",
      "    Per feature relative scaling of the data to achieve zero mean and unit\n",
      "    variance. Generally this is calculated using `np.sqrt(var_)`. If a\n",
      "    variance is zero, we can't achieve unit variance, and the data is left\n",
      "    as-is, giving a scaling factor of 1. `scale_` is equal to `None`\n",
      "    when `with_std=False`.\n",
      "\n",
      "    .. versionadded:: 0.17\n",
      "       *scale_*\n",
      "\n",
      "mean_ : ndarray of shape (n_features,) or None\n",
      "    The mean value for each feature in the training set.\n",
      "    Equal to ``None`` when ``with_mean=False`` and ``with_std=False``.\n",
      "\n",
      "var_ : ndarray of shape (n_features,) or None\n",
      "    The variance for each feature in the training set. Used to compute\n",
      "    `scale_`. Equal to ``None`` when ``with_mean=False`` and\n",
      "    ``with_std=False``.\n",
      "\n",
      "n_features_in_ : int\n",
      "    Number of features seen during :term:`fit`.\n",
      "\n",
      "    .. versionadded:: 0.24\n",
      "\n",
      "feature_names_in_ : ndarray of shape (`n_features_in_`,)\n",
      "    Names of features seen during :term:`fit`. Defined only when `X`\n",
      "    has feature names that are all strings.\n",
      "\n",
      "    .. versionadded:: 1.0\n",
      "\n",
      "n_samples_seen_ : int or ndarray of shape (n_features,)\n",
      "    The number of samples processed by the estimator for each feature.\n",
      "    If there are no missing samples, the ``n_samples_seen`` will be an\n",
      "    integer, otherwise it will be an array of dtype int. If\n",
      "    `sample_weights` are used it will be a float (if no missing data)\n",
      "    or an array of dtype float that sums the weights seen so far.\n",
      "    Will be reset on new calls to fit, but increments across\n",
      "    ``partial_fit`` calls.\n",
      "\n",
      "See Also\n",
      "--------\n",
      "scale : Equivalent function without the estimator API.\n",
      "\n",
      ":class:`~sklearn.decomposition.PCA` : Further removes the linear\n",
      "    correlation across features with 'whiten=True'.\n",
      "\n",
      "Notes\n",
      "-----\n",
      "NaNs are treated as missing values: disregarded in fit, and maintained in\n",
      "transform.\n",
      "\n",
      "We use a biased estimator for the standard deviation, equivalent to\n",
      "`numpy.std(x, ddof=0)`. Note that the choice of `ddof` is unlikely to\n",
      "affect model performance.\n",
      "\n",
      "Examples\n",
      "--------\n",
      ">>> from sklearn.preprocessing import StandardScaler\n",
      ">>> data = [[0, 0], [0, 0], [1, 1], [1, 1]]\n",
      ">>> scaler = StandardScaler()\n",
      ">>> print(scaler.fit(data))\n",
      "StandardScaler()\n",
      ">>> print(scaler.mean_)\n",
      "[0.5 0.5]\n",
      ">>> print(scaler.transform(data))\n",
      "[[-1. -1.]\n",
      " [-1. -1.]\n",
      " [ 1.  1.]\n",
      " [ 1.  1.]]\n",
      ">>> print(scaler.transform([[2, 2]]))\n",
      "[[3. 3.]]\n",
      "\u001b[0;31mFile:\u001b[0m           ~/.local/lib/python3.10/site-packages/sklearn/preprocessing/_data.py\n",
      "\u001b[0;31mType:\u001b[0m           type\n",
      "\u001b[0;31mSubclasses:\u001b[0m     "
     ]
    }
   ],
   "source": [
    "?StandardScaler"
   ]
  },
  {
   "cell_type": "code",
   "execution_count": null,
   "id": "733f3b4b",
   "metadata": {},
   "outputs": [],
   "source": []
  },
  {
   "cell_type": "code",
   "execution_count": 24,
   "id": "3b593a81",
   "metadata": {},
   "outputs": [
    {
     "name": "stdout",
     "output_type": "stream",
     "text": [
      "     amount  oldbalanceOrg  newbalanceOrig  oldbalanceDest  newbalanceDest\n",
      "0 -0.158339      -0.291955       -0.291554       -0.210158       -0.205427\n",
      "1  1.360976      -0.291878       -0.291554        0.924753        1.108908\n",
      "2  3.568988      -0.273385       -0.291554       -0.275897        0.405920\n",
      "3 -0.301800      -0.291955       -0.291554       -0.330377       -0.342133\n",
      "4 -0.296184      -0.291955       -0.291554       -0.330377       -0.342133\n"
     ]
    }
   ],
   "source": [
    "#=================================================-\n",
    "#### Slide 36: StandardScalar  ####\n",
    "\n",
    "# Instantiate MinMaxScaler.\n",
    "scaler = StandardScaler()\n",
    "\n",
    "# Scale the dataframe.\n",
    "paysim_dbscan_scaled = scaler.fit_transform(paysim_dbscan)\n",
    "# Convert back to dataframe, making sure to name the columns again.\n",
    "paysim_dbscan_scaled = pd.DataFrame(paysim_dbscan_scaled, columns = paysim_dbscan.columns)\n",
    "print(paysim_dbscan_scaled.head())\n",
    "\n",
    "\n"
   ]
  },
  {
   "cell_type": "code",
   "execution_count": 25,
   "id": "35b94146",
   "metadata": {},
   "outputs": [
    {
     "name": "stdout",
     "output_type": "stream",
     "text": [
      "[[   -1   901]\n",
      " [    0 19139]\n",
      " [    1     7]\n",
      " [    2     7]\n",
      " [    3     9]\n",
      " [    4    21]\n",
      " [    5    21]\n",
      " [    6     5]\n",
      " [    7     7]\n",
      " [    8    11]\n",
      " [    9     5]\n",
      " [   10     6]\n",
      " [   11    15]\n",
      " [   12    10]\n",
      " [   13     5]\n",
      " [   14     5]\n",
      " [   15    15]\n",
      " [   16     5]\n",
      " [   17     9]\n",
      " [   18     7]\n",
      " [   19     5]\n",
      " [   20     5]]\n"
     ]
    }
   ],
   "source": [
    "#=================================================-\n",
    "#### Slide 38: DBSCAN: model   ####\n",
    "\n",
    "# Let's run DBSCAN.\n",
    "dbscan = DBSCAN(eps=0.2, min_samples = 5)\n",
    "clusters = dbscan.fit_predict(paysim_dbscan_scaled)\n",
    "\n",
    "# Check the number of clusters\n",
    "unique, counts = np.unique(clusters, return_counts=True)\n",
    "print(np.asarray((unique, counts)).T)\n",
    "\n",
    "\n"
   ]
  },
  {
   "cell_type": "code",
   "execution_count": null,
   "id": "3ee1a9cc",
   "metadata": {},
   "outputs": [],
   "source": [
    "#=================================================-\n",
    "#### Slide 39: Exercise 1  ####\n",
    "\n",
    "\n",
    "\n",
    "\n"
   ]
  },
  {
   "cell_type": "code",
   "execution_count": 26,
   "id": "bac8c9a8",
   "metadata": {},
   "outputs": [],
   "source": [
    "#=================================================-\n",
    "#### Slide 44: Optimal Eps determination  ####\n",
    "\n",
    "nn_model = NearestNeighbors(n_neighbors=10)\n",
    "nbrs = nn_model.fit(paysim_dbscan_scaled)\n",
    "distances, indices = nbrs.kneighbors(paysim_dbscan_scaled)\n",
    "distances = np.mean(distances,axis=1)\n",
    "distances = np.sort(distances, axis=0)\n",
    "\n",
    "\n"
   ]
  },
  {
   "cell_type": "code",
   "execution_count": 27,
   "id": "516fe0b3",
   "metadata": {},
   "outputs": [
    {
     "data": {
      "text/plain": [
       "array([7.56842217e-06, 7.56842217e-06, 7.64013122e-06, ...,\n",
       "       1.27639126e+01, 2.24483652e+01, 2.50760286e+01])"
      ]
     },
     "execution_count": 27,
     "metadata": {},
     "output_type": "execute_result"
    }
   ],
   "source": [
    "distances"
   ]
  },
  {
   "cell_type": "code",
   "execution_count": null,
   "id": "c06301e5",
   "metadata": {},
   "outputs": [],
   "source": []
  },
  {
   "cell_type": "code",
   "execution_count": null,
   "id": "827f80ab",
   "metadata": {},
   "outputs": [],
   "source": [
    "#=================================================-\n",
    "#### Slide 47: DBSCAN: optimized model  ####\n",
    "\n",
    "# DBSCAN\n",
    "dbscan = DBSCAN(eps=0.5, min_samples = 10)\n",
    "optimized_clusters = dbscan.fit_predict(paysim_dbscan_scaled)\n",
    "\n",
    "# Check the number of clusters\n",
    "unique, counts = np.unique(optimized_clusters, return_counts=True)\n",
    "print(np.asarray((unique, counts)).T)\n",
    "paysim_dbscan['cluster'] = optimized_clusters\n",
    "\n",
    "paysim_dbscan.loc[paysim_dbscan['cluster'] >= 0,'cluster'] = 0\n",
    "paysim_dbscan.loc[paysim_dbscan['cluster'] == -1,'cluster'] = 1\n",
    "\n",
    "\n"
   ]
  },
  {
   "cell_type": "code",
   "execution_count": null,
   "id": "bae4d424",
   "metadata": {},
   "outputs": [],
   "source": [
    "#=================================================-\n",
    "#### Slide 48: Visualize the Anomalies  ####\n",
    "\n",
    "fig, ax = plt.subplots()\n",
    "sc = ax.scatter(paysim_dbscan['oldbalanceOrg'], paysim_dbscan['newbalanceOrig'], c = paysim_dbscan['cluster'], alpha = 0.8)\n",
    "ax.legend(*sc.legend_elements())\n",
    "plt.xlabel('Amount of transaction')\n",
    "plt.ylabel('Origin new balance after transaction')\n",
    "fig, ax = plt.subplots()\n",
    "sc = ax.scatter(paysim_dbscan['oldbalanceOrg'], paysim_dbscan['newbalanceOrig'], c = paysim_dbscan['cluster'], alpha = 0.8)\n",
    "ax.legend(*sc.legend_elements())\n",
    "plt.xlabel('Amount of transaction')\n",
    "plt.ylabel('Origin new balance after transaction')\n",
    "\n",
    "\n"
   ]
  },
  {
   "cell_type": "code",
   "execution_count": null,
   "id": "d65d2610",
   "metadata": {},
   "outputs": [],
   "source": [
    "#=================================================-\n",
    "#### Slide 49: Visualize the Anomalies  ####\n",
    "\n",
    "fig, ax = plt.subplots()\n",
    "sc = ax.scatter(paysim_dbscan['amount'], paysim_dbscan['newbalanceDest'], c = paysim_dbscan['cluster'], alpha = 0.8)\n",
    "ax.legend(*sc.legend_elements())\n",
    "plt.xlabel('Amount')\n",
    "plt.ylabel('Recipient new Balance after transaction')\n",
    "plt.show()\n",
    "fig, ax = plt.subplots()\n",
    "sc = ax.scatter(paysim_dbscan['amount'], paysim_dbscan['newbalanceDest'], c = paysim_dbscan['cluster'], alpha = 0.8)\n",
    "ax.legend(*sc.legend_elements())\n",
    "plt.xlabel('Amount')\n",
    "plt.ylabel('Recipient new Balance after transaction')\n",
    "plt.show()\n",
    "\n",
    "\n"
   ]
  },
  {
   "cell_type": "code",
   "execution_count": null,
   "id": "b92220e5",
   "metadata": {},
   "outputs": [],
   "source": [
    "#=================================================-\n",
    "#### Slide 52: Exercise 2  ####\n",
    "\n",
    "\n",
    "\n",
    "\n",
    "#######################################################\n",
    "####  CONGRATULATIONS ON COMPLETING THIS MODULE!   ####\n",
    "#######################################################\n"
   ]
  },
  {
   "cell_type": "code",
   "execution_count": null,
   "id": "e981ef7b",
   "metadata": {},
   "outputs": [],
   "source": [
    "#######################################################\n",
    "#######################################################\n",
    "############    COPYRIGHT - DATA SOCIETY   ############\n",
    "#######################################################\n",
    "#######################################################\n",
    "\n",
    "## ANOMALY DETECTION PART 2 ##\n",
    "\n",
    "## NOTE: To run individual pieces of code, select the line of code and\n",
    "##       press ctrl + enter for PCs or command + enter for Macs\n",
    "\n",
    "\n"
   ]
  },
  {
   "cell_type": "code",
   "execution_count": null,
   "id": "e1b79551",
   "metadata": {},
   "outputs": [],
   "source": [
    "#=================================================-\n",
    "#### Slide 4: Loading packages  ####\n",
    "\n",
    "import os\n",
    "from pathlib import Path\n",
    "import pandas as pd\n",
    "import numpy as np\n",
    "import matplotlib.pyplot as plt\n",
    "import pickle\n",
    "\n",
    "from sklearn import metrics\n",
    "from sklearn.model_selection import train_test_split\n",
    "from sklearn.metrics import confusion_matrix, roc_auc_score\n",
    "from imblearn.over_sampling import SMOTE\n",
    "\n",
    "from sklearn.preprocessing import StandardScaler\n",
    "from sklearn.neighbors import NearestNeighbors\n",
    "from sklearn.cluster import DBSCAN\n",
    "from sklearn.tree import DecisionTreeClassifier\n",
    "\n",
    "\n"
   ]
  },
  {
   "cell_type": "code",
   "execution_count": null,
   "id": "3015b6d4",
   "metadata": {},
   "outputs": [],
   "source": [
    "#=================================================-\n",
    "#### Slide 5: Directory settings  ####\n",
    "\n",
    "# Set 'main_dir' to location of the project folder\n",
    "from pathlib import Path \n",
    "home_dir = Path(\".\").resolve()\n",
    "main_dir = home_dir.parent.parent\n",
    "print(main_dir)\n",
    "data_dir = str(main_dir) + \"/data\"\n",
    "print(data_dir)\n",
    "\n",
    "\n"
   ]
  },
  {
   "cell_type": "code",
   "execution_count": null,
   "id": "e2dcb78d",
   "metadata": {},
   "outputs": [],
   "source": [
    "#=================================================-\n",
    "#### Slide 6: Time series data: load energy consumption  ####\n",
    "\n",
    "pjm_energy = pd.read_csv(str(data_dir)+\"/PJME_hourly.csv\")\n",
    "pjm_energy.head()\n",
    "\n",
    "\n"
   ]
  },
  {
   "cell_type": "code",
   "execution_count": null,
   "id": "4429d4b3",
   "metadata": {},
   "outputs": [],
   "source": [
    "#=================================================-\n",
    "#### Slide 7: Time series data: preprocessing  ####\n",
    "\n",
    "pjm_energy['Datetime'] = pd.to_datetime(pjm_energy['Datetime'])\n",
    "pjm_energy.info()\n",
    "pjm_energy = pjm_energy[pjm_energy['Datetime'] > '2018-01-01 00:00:00']\n",
    "pjm_energy.shape\n",
    "\n",
    "\n"
   ]
  },
  {
   "cell_type": "code",
   "execution_count": null,
   "id": "b5eeb4e4",
   "metadata": {},
   "outputs": [],
   "source": [
    "#=================================================-\n",
    "#### Slide 8: Visualize the data: line plot  ####\n",
    "\n",
    "pjm_energy.plot(x='Datetime', y='PJME_MW', figsize=(17,5))\n",
    "plt.xlabel('Date time')\n",
    "plt.ylabel('Energy Consumption')\n",
    "plt.title('Energy consumption (MW) at each hour in 2018')\n",
    "plt.show()\n",
    "\n",
    "\n"
   ]
  },
  {
   "cell_type": "code",
   "execution_count": null,
   "id": "9b83884b",
   "metadata": {},
   "outputs": [],
   "source": [
    "#=================================================-\n",
    "#### Slide 9: Scaling on time series data  ####\n",
    "\n",
    "scaler = StandardScaler()\n",
    "\n",
    "# Scale the dataframe.\n",
    "pjm_energy_scaled = scaler.fit_transform(pd.DataFrame(pjm_energy['PJME_MW']))\n",
    "print(pjm_energy_scaled)\n",
    "\n",
    "\n"
   ]
  },
  {
   "cell_type": "code",
   "execution_count": null,
   "id": "a75c76b8",
   "metadata": {},
   "outputs": [],
   "source": [
    "#=================================================-\n",
    "#### Slide 12: DBSCAN on time series data  ####\n",
    "\n",
    "dbscan_energy = DBSCAN(eps = 0.03, metric='euclidean', min_samples=5, n_jobs = -1)\n",
    "\n",
    "pjm_energy['anomaly'] =  dbscan_energy.fit_predict(pd.DataFrame(pjm_energy_scaled))\n",
    "\n",
    "\n"
   ]
  },
  {
   "cell_type": "code",
   "execution_count": null,
   "id": "e0e16efa",
   "metadata": {},
   "outputs": [],
   "source": [
    "#=================================================-\n",
    "#### Slide 14: Anomalies detected  ####\n",
    "\n",
    "pjm_energy[pjm_energy['anomaly'] == -1]\n",
    "\n",
    "\n"
   ]
  },
  {
   "cell_type": "code",
   "execution_count": null,
   "id": "529cab76",
   "metadata": {},
   "outputs": [],
   "source": [
    "#=================================================-\n",
    "#### Slide 16: Exercise 3  ####\n",
    "\n",
    "\n",
    "\n",
    "\n"
   ]
  },
  {
   "cell_type": "code",
   "execution_count": null,
   "id": "af62f397",
   "metadata": {},
   "outputs": [],
   "source": [
    "#=================================================-\n",
    "#### Slide 29: Prepare a dataset for decision tree modeling  ####\n",
    "\n",
    "paysim = pd.read_csv(str(data_dir)+\"/paysim_transactions.csv\")\n",
    "# Drop columns. \n",
    "paysim = paysim.drop(['step', 'nameOrig', 'nameDest', 'isFlaggedFraud'], axis = 1)\n",
    "paysim.columns\n",
    "\n",
    "\n"
   ]
  },
  {
   "cell_type": "code",
   "execution_count": null,
   "id": "b2097b3f",
   "metadata": {},
   "outputs": [],
   "source": [
    "#=================================================-\n",
    "#### Slide 30: Convert categorical to dummy  ####\n",
    "\n",
    "paysim['type'] = pd.Categorical(paysim['type'])\n",
    "paysim['type'] = paysim['type'].cat.codes\n",
    "colname = pd.get_dummies(paysim['type'], prefix = 'type', drop_first = True)\n",
    "paysim = pd.concat([paysim, colname], axis = 1)\n",
    "paysim.drop(['type'], axis = 1, inplace = True)\n",
    "\n",
    "paysim.columns\n",
    "\n",
    "\n"
   ]
  },
  {
   "cell_type": "code",
   "execution_count": null,
   "id": "e5cd6fe9",
   "metadata": {},
   "outputs": [],
   "source": [
    "#=================================================-\n",
    "#### Slide 31: Decision tree classification  ####\n",
    "\n",
    "# Select predictors and target.\n",
    "y = paysim['isFraud']\n",
    "X = paysim.drop(['isFraud'], axis = 1)\n",
    "\n",
    "# Build a logistic regression model.\n",
    "np.random.seed(1)\n",
    "X_train, X_test, y_train, y_test = train_test_split(X, y, test_size = 0.30)\n",
    "dtree = DecisionTreeClassifier(max_depth = 10)\n",
    "dtree.fit(X_train, y_train)\n",
    "\n",
    "\n"
   ]
  },
  {
   "cell_type": "code",
   "execution_count": null,
   "id": "d8fc6693",
   "metadata": {},
   "outputs": [],
   "source": [
    "#=================================================-\n",
    "#### Slide 32: Predict the target  ####\n",
    "\n",
    "dtree_y_train_pred = dtree.predict(X_train)\n",
    "dtree_y_test_pred = dtree.predict(X_test)\n",
    "dtree_accuracy = metrics.accuracy_score(y_test, dtree_y_test_pred)\n",
    "print(\"Accuracy of test data:\\t\", dtree_accuracy)\n",
    "# ROC AUC value.\n",
    "roc_auc_score(y_test, dtree_y_test_pred)\n",
    "\n",
    "\n"
   ]
  },
  {
   "cell_type": "code",
   "execution_count": null,
   "id": "5fa496f1",
   "metadata": {},
   "outputs": [],
   "source": [
    "#=================================================-\n",
    "#### Slide 33: Confusion matrix of training data  ####\n",
    "\n",
    "print('Confusion Matrix - Training Dataset')\n",
    "print(pd.crosstab(y_train, dtree_y_train_pred, rownames = ['True'], colnames = ['Predicted'], margins = True))\n",
    "print('Percentage of accurate fraud cases is ', 133/153)\n",
    "\n",
    "\n"
   ]
  },
  {
   "cell_type": "code",
   "execution_count": null,
   "id": "8c712198",
   "metadata": {},
   "outputs": [],
   "source": [
    "#=================================================-\n",
    "#### Slide 34: Confusion matrix of test data  ####\n",
    "\n",
    "print('Confusion Matrix - Testing Dataset')\n",
    "print(pd.crosstab(y_test, dtree_y_test_pred, rownames = ['True'], colnames = ['Predicted'], margins = True))\n",
    "print('Percentage of accurate fraud cases is', 45/67)\n",
    "\n",
    "\n"
   ]
  },
  {
   "cell_type": "code",
   "execution_count": null,
   "id": "6abd7573",
   "metadata": {},
   "outputs": [],
   "source": [
    "#=================================================-\n",
    "#### Slide 37: Find TPR and TNR  ####\n",
    "\n",
    "tn, fp, fn, tp = confusion_matrix(y_test, dtree_y_test_pred).ravel()\n",
    "\n",
    "# Find the TNR.\n",
    "non_fraud_eval = tn / (tn + fp)\n",
    "print(non_fraud_eval)\n",
    "# Find the TPR.\n",
    "fraud_eval = tp / (tp + fn)\n",
    "print(fraud_eval)\n",
    "\n",
    "\n"
   ]
  },
  {
   "cell_type": "code",
   "execution_count": null,
   "id": "d8d1714e",
   "metadata": {},
   "outputs": [],
   "source": [
    "#=================================================-\n",
    "#### Slide 38: Save the metric  ####\n",
    "\n",
    "performance_df = pd.DataFrame(columns = ['model_name', 'TPR', 'TNR'])\n",
    "\n",
    "s = pd.Series(['Decision_tree_baseline', fraud_eval, non_fraud_eval], \n",
    "              index=['model_name', 'TPR', 'TNR'])\n",
    "performance_df = performance_df.append(s, ignore_index = True)\n",
    "performance_df\n",
    "\n",
    "\n"
   ]
  },
  {
   "cell_type": "code",
   "execution_count": null,
   "id": "06dd6962",
   "metadata": {},
   "outputs": [],
   "source": [
    "#=================================================-\n",
    "#### Slide 40: Exercise 4  ####\n",
    "\n",
    "\n",
    "\n",
    "\n"
   ]
  },
  {
   "cell_type": "code",
   "execution_count": null,
   "id": "0b0eb86d",
   "metadata": {},
   "outputs": [],
   "source": [
    "#=================================================-\n",
    "#### Slide 49: SMOTE in fraud dataset  ####\n",
    "\n",
    "sm = SMOTE(random_state = 1)\n",
    "X_train_new, y_train_new = sm.fit_resample(X_train, y_train)\n",
    "# Shape of X_train.\n",
    "print(X_train.shape)\n",
    "# Print shape of X_train_new.\n",
    "print(X_train_new.shape)\n",
    "# Double check that the data has been balanced.\n",
    "pd.Series(y_train_new).value_counts().plot.bar()\n",
    "\n",
    "\n"
   ]
  },
  {
   "cell_type": "code",
   "execution_count": null,
   "id": "c2d1d175",
   "metadata": {},
   "outputs": [],
   "source": [
    "#=================================================-\n",
    "#### Slide 50: Fit the model and predict  ####\n",
    "\n",
    "# Fit the model.\n",
    "dtree.fit(X_train_new, y_train_new)\n",
    "\n",
    "# Prediction for training data.\n",
    "train_pred_sm = dtree.predict(X_train_new)\n",
    "\n",
    "# Prediction for the test data.\n",
    "test_pred_sm = dtree.predict(X_test)\n",
    "train_pred_sm = dtree.predict(X_train_new)\n",
    "\n",
    "\n"
   ]
  },
  {
   "cell_type": "code",
   "execution_count": null,
   "id": "17d3176c",
   "metadata": {},
   "outputs": [],
   "source": [
    "#=================================================-\n",
    "#### Slide 51: Confusion matrix of training data  ####\n",
    "\n",
    "print('Confusion Matrix - Training Dataset')\n",
    "print(pd.crosstab(y_train_new, train_pred_sm, rownames = ['True'], colnames = ['Predicted'], margins = True))\n",
    "print('Percentage of accurate fraud cases: ', 13999/14001)\n",
    "\n",
    "\n"
   ]
  },
  {
   "cell_type": "code",
   "execution_count": null,
   "id": "45d2f317",
   "metadata": {},
   "outputs": [],
   "source": [
    "#=================================================-\n",
    "#### Slide 52: Confusion matrix of test data  ####\n",
    "\n",
    "print('Confusion Matrix - Testing Dataset')\n",
    "print(pd.crosstab(y_test, test_pred_sm, rownames = ['True'], colnames = ['Predicted'], margins = True))\n",
    "print('Percentage of accurate fraud cases ', 58/67)\n",
    "\n",
    "\n"
   ]
  },
  {
   "cell_type": "code",
   "execution_count": null,
   "id": "5b145556",
   "metadata": {},
   "outputs": [],
   "source": [
    "#=================================================-\n",
    "#### Slide 53: Find TPR and TNR and save  ####\n",
    "\n",
    "# Find TPR and TNR and save the result.\n",
    "tn, fp, fn, tp = confusion_matrix(y_test, test_pred_sm).ravel()\n",
    "non_fraud_eval = tn / (tn + fp)\n",
    "print(non_fraud_eval)\n",
    "fraud_eval = tp / (tp + fn)\n",
    "print(fraud_eval)\n",
    "\n",
    "\n"
   ]
  },
  {
   "cell_type": "code",
   "execution_count": null,
   "id": "f238a4ef",
   "metadata": {},
   "outputs": [],
   "source": [
    "#=================================================-\n",
    "#### Slide 54: Add scores to the performance dataframe  ####\n",
    "\n",
    "s = pd.Series(['SMOTE', fraud_eval, non_fraud_eval], \n",
    "              index=['model_name', 'TPR', 'TNR'])\n",
    "performance_df = performance_df.append(s, ignore_index = True)\n",
    "performance_df\n",
    "pickle.dump(performance_df, open(str(data_dir) + \"/performance_anomalies.sav\",\"wb\"))\n",
    "\n",
    "\n"
   ]
  },
  {
   "cell_type": "code",
   "execution_count": null,
   "id": "6f39dcaf",
   "metadata": {},
   "outputs": [],
   "source": [
    "#=================================================-\n",
    "#### Slide 56: Exercise 5  ####\n",
    "\n",
    "\n",
    "\n",
    "\n",
    "#######################################################\n",
    "####  CONGRATULATIONS ON COMPLETING THIS MODULE!   ####\n",
    "#######################################################\n"
   ]
  }
 ],
 "metadata": {
  "kernelspec": {
   "display_name": "Python 3 (ipykernel)",
   "language": "python",
   "name": "python3"
  },
  "language_info": {
   "codemirror_mode": {
    "name": "ipython",
    "version": 3
   },
   "file_extension": ".py",
   "mimetype": "text/x-python",
   "name": "python",
   "nbconvert_exporter": "python",
   "pygments_lexer": "ipython3",
   "version": "3.10.13"
  }
 },
 "nbformat": 4,
 "nbformat_minor": 5
}
